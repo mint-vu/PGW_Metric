{
 "cells": [
  {
   "cell_type": "code",
   "execution_count": 1,
   "id": "15a52596-2154-4a76-8f41-e24b41abf03b",
   "metadata": {},
   "outputs": [
    {
     "name": "stdout",
     "output_type": "stream",
     "text": [
      "/home/baly/projects/PGW_Metric/interpolation\n"
     ]
    }
   ],
   "source": [
    "#from google.colab import drive\n",
    "import os\n",
    "os.chdir('.')\n",
    "\n",
    "cwd = os.getcwd()\n",
    "print(cwd)\n",
    "import numba as nb\n"
   ]
  },
  {
   "cell_type": "code",
   "execution_count": null,
   "id": "6673f95c-bc40-4916-b192-f5543aa6dc13",
   "metadata": {},
   "outputs": [],
   "source": []
  }
 ],
 "metadata": {
  "kernelspec": {
   "display_name": "Python 3 (ipykernel)",
   "language": "python",
   "name": "python3"
  },
  "language_info": {
   "codemirror_mode": {
    "name": "ipython",
    "version": 3
   },
   "file_extension": ".py",
   "mimetype": "text/x-python",
   "name": "python",
   "nbconvert_exporter": "python",
   "pygments_lexer": "ipython3",
   "version": "3.11.4"
  }
 },
 "nbformat": 4,
 "nbformat_minor": 5
}
