{
 "cells": [
  {
   "cell_type": "code",
   "execution_count": 2,
   "id": "d9303151-5519-4a14-a8e3-ac80b2db0cee",
   "metadata": {
    "tags": []
   },
   "outputs": [],
   "source": [
    "import torch\n",
    "import torch.nn as nn\n",
    "import torch.optim as optim\n",
    "from torchvision import datasets, transforms\n",
    "from torch.utils.data import DataLoader\n",
    "import matplotlib.pyplot as plt\n",
    "import time\n",
    "import numpy as np\n",
    "from tqdm.notebook import tqdm\n",
    "import torch.nn.functional as F\n",
    "from scipy.stats import gaussian_kde\n",
    "import ot"
   ]
  },
  {
   "cell_type": "code",
   "execution_count": 3,
   "id": "ffcc476c-c6e9-4aec-9b18-32ffe43fdbf3",
   "metadata": {
    "tags": []
   },
   "outputs": [],
   "source": [
    "kk=0"
   ]
  },
  {
   "cell_type": "code",
   "execution_count": 4,
   "id": "2130b296-a246-4a85-a983-8dfe88336101",
   "metadata": {
    "tags": []
   },
   "outputs": [],
   "source": [
    "device = 'cuda:0'"
   ]
  },
  {
   "cell_type": "code",
   "execution_count": 4,
   "id": "bdeb8c13-b4b4-4d77-862c-c549ee1840c4",
   "metadata": {
    "tags": []
   },
   "outputs": [],
   "source": [
    "def scatter_mollweide_ax(X, ax, c=None,s=3,cmap='tab10'):\n",
    "    '''\n",
    "    https://github.com/clbonet/Spherical_Sliced-Wasserstein/blob/main/lib/utils_sphere.py\n",
    "    '''\n",
    "    spherical_coords = utils.euclidean_to_spherical(X)\n",
    "    ax.scatter(spherical_coords[:,0] - np.pi, spherical_coords[:,1] - np.pi/2, c=c,s=s,cmap=cmap)\n",
    "    ax.set_axis_off()"
   ]
  },
  {
   "cell_type": "code",
   "execution_count": 1,
   "id": "15b0361c-6704-4502-a025-2c3e8a69c065",
   "metadata": {
    "tags": []
   },
   "outputs": [
    {
     "ename": "NameError",
     "evalue": "name 'nn' is not defined",
     "output_type": "error",
     "traceback": [
      "\u001b[0;31m---------------------------------------------------------------------------\u001b[0m",
      "\u001b[0;31mNameError\u001b[0m                                 Traceback (most recent call last)",
      "Cell \u001b[0;32mIn[1], line 2\u001b[0m\n\u001b[1;32m      1\u001b[0m \u001b[38;5;66;03m# Define a Convolutional Autoencoder model\u001b[39;00m\n\u001b[0;32m----> 2\u001b[0m \u001b[38;5;28;01mclass\u001b[39;00m \u001b[38;5;21;01mConvAutoencoder\u001b[39;00m(\u001b[43mnn\u001b[49m\u001b[38;5;241m.\u001b[39mModule):\n\u001b[1;32m      3\u001b[0m     \u001b[38;5;28;01mdef\u001b[39;00m \u001b[38;5;21m__init__\u001b[39m(\u001b[38;5;28mself\u001b[39m, embedding_dim\u001b[38;5;241m=\u001b[39m\u001b[38;5;241m8\u001b[39m):\n\u001b[1;32m      4\u001b[0m         \u001b[38;5;28msuper\u001b[39m(ConvAutoencoder, \u001b[38;5;28mself\u001b[39m)\u001b[38;5;241m.\u001b[39m\u001b[38;5;21m__init__\u001b[39m()\n",
      "\u001b[0;31mNameError\u001b[0m: name 'nn' is not defined"
     ]
    }
   ],
   "source": [
    "# Define a Convolutional Autoencoder model\n",
    "class ConvAutoencoder(nn.Module):\n",
    "    def __init__(self, embedding_dim=8):\n",
    "        super(ConvAutoencoder, self).__init__()\n",
    "        self.encoder = nn.Sequential(\n",
    "            nn.Conv2d(3, 32, kernel_size=3, stride=1, padding=1),\n",
    "            nn.ReLU(),\n",
    "            nn.Conv2d(32, 32, kernel_size=3, stride=2, padding=1),\n",
    "            nn.ReLU(),\n",
    "            nn.Conv2d(32, 64, kernel_size=3, stride=1, padding=1),\n",
    "            nn.ReLU(),\n",
    "            nn.Conv2d(64, 64, kernel_size=3, stride=2, padding=1),\n",
    "            nn.ReLU(),\n",
    "            nn.Conv2d(64, 128, kernel_size=3, stride=1, padding=0),\n",
    "            nn.ReLU(),\n",
    "            nn.Conv2d(128, 128, kernel_size=3, stride=2, padding=0),\n",
    "        )\n",
    "        self.decoder = nn.Sequential(\n",
    "            nn.ConvTranspose2d(128, 128, kernel_size=3, stride=2, padding=0, output_padding=1),\n",
    "            nn.ReLU(),\n",
    "            nn.ConvTranspose2d(128, 64, kernel_size=3, stride=1, padding=1),\n",
    "            nn.ReLU(),\n",
    "            nn.ConvTranspose2d(64, 64, kernel_size=3, stride=2, padding=1, output_padding=1),\n",
    "            nn.ReLU(),\n",
    "            nn.ConvTranspose2d(64, 32, kernel_size=3, stride=1, padding=1),\n",
    "              nn.ReLU(),\n",
    "            nn.ConvTranspose2d(32, 32, kernel_size=3, stride=2, padding=0, output_padding=1),\n",
    "            nn.ReLU(),\n",
    "            nn.ConvTranspose2d(32, 3, kernel_size=3, stride=1, padding=0),\n",
    "            nn.Sigmoid(),\n",
    "        )\n",
    "        self.embedding_encoder = nn.Sequential(\n",
    "            nn.Linear(128 * 2 * 2, 512),\n",
    "            nn.ReLU(),\n",
    "            nn.Linear(512, 512)\n",
    "            nn.ReLU(),\n",
    "            nn.Linear(512, embedding_dim)\n",
    "            )\n",
    "        self.embedding_decoder = nn.Sequential(\n",
    "            nn.Linear(embedding_dim, 512),\n",
    "            nn.ReLU(),\n",
    "            nn.Linear(512, 512)\n",
    "            nn.ReLU(),\n",
    "            nn.Linear(512, 128 * 2 * 2)\n",
    "            )\n",
    "\n",
    "    def forward(self, x):\n",
    "        x = self.encoder(x)\n",
    "        x = x.view(x.size(0), -1)  # Flatten        \n",
    "        embedding = self.embedding_encoder(x)\n",
    "        #embedding = embedding/torch.norm(embedding,p=2,dim=-1,keepdim=True)\n",
    "        xhat = self.decoder(self.embedding_decoder(embedding).view(x.size(0), 128, 2, 2))\n",
    "        return xhat, embedding"
   ]
  },
  {
   "cell_type": "code",
   "execution_count": 6,
   "id": "4ed90a23-3c05-426a-93f7-f48a7163754e",
   "metadata": {
    "tags": []
   },
   "outputs": [],
   "source": [
    "# Define training parameters\n",
    "batch_size = 512\n",
    "learning_rate = 1e-4\n",
    "num_epochs = 50"
   ]
  },
  {
   "cell_type": "code",
   "execution_count": 7,
   "id": "789f3e7d-52ef-4e94-b748-fea712bc9d0f",
   "metadata": {
    "tags": []
   },
   "outputs": [],
   "source": [
    "# Data loading and preprocessing\n",
    "transform = transforms.Compose([transforms.ToTensor()])\n",
    "train_dataset = datasets.MNIST(root='./data', train=True, transform=transform, download=True)\n",
    "test_dataset = datasets.MNIST(root='./data', train=False, transform=transform, download=True)\n",
    "train_loader = DataLoader(train_dataset, batch_size=batch_size, shuffle=True)\n",
    "test_loader = DataLoader(test_dataset, batch_size=batch_size, shuffle=False)"
   ]
  },
  {
   "cell_type": "code",
   "execution_count": 8,
   "id": "45347df1-8e0d-4e39-b5e4-fdeb1bf985ae",
   "metadata": {
    "tags": []
   },
   "outputs": [],
   "source": [
    "# Initialize the model and optimizer\n",
    "model = ConvAutoencoder(embedding_dim=4)\n",
    "model = model.to(device)\n",
    "criterion1 = nn.BCELoss()\n",
    "criterion2 = nn.MSELoss()\n",
    "optimizer = optim.Adam(model.parameters(), lr=learning_rate)"
   ]
  },
  {
   "cell_type": "code",
   "execution_count": 9,
   "id": "6518f6db-db6f-4c18-b32d-6128123d2e99",
   "metadata": {
    "tags": []
   },
   "outputs": [
    {
     "data": {
      "application/vnd.jupyter.widget-view+json": {
       "model_id": "a7c49ae306cd4c12bb4af5545f30045d",
       "version_major": 2,
       "version_minor": 0
      },
      "text/plain": [
       "  0%|          | 0/50 [00:00<?, ?it/s]"
      ]
     },
     "metadata": {},
     "output_type": "display_data"
    },
    {
     "name": "stdout",
     "output_type": "stream",
     "text": [
      "Epoch [1/50], BCE Loss/epoch: 0.4966, MSE Loss/epoch: 0.1463, Time/epoch: 6.3538\n",
      "Epoch [2/50], BCE Loss/epoch: 0.3052, MSE Loss/epoch: 0.0817, Time/epoch: 4.9885\n",
      "Epoch [3/50], BCE Loss/epoch: 0.2979, MSE Loss/epoch: 0.0800, Time/epoch: 5.1055\n",
      "Epoch [4/50], BCE Loss/epoch: 0.2841, MSE Loss/epoch: 0.0758, Time/epoch: 5.0038\n",
      "Epoch [5/50], BCE Loss/epoch: 0.2527, MSE Loss/epoch: 0.0654, Time/epoch: 5.0195\n",
      "Epoch [6/50], BCE Loss/epoch: 0.2337, MSE Loss/epoch: 0.0589, Time/epoch: 5.0198\n",
      "Epoch [7/50], BCE Loss/epoch: 0.2273, MSE Loss/epoch: 0.0566, Time/epoch: 5.0217\n",
      "Epoch [8/50], BCE Loss/epoch: 0.2232, MSE Loss/epoch: 0.0551, Time/epoch: 5.0207\n",
      "Epoch [9/50], BCE Loss/epoch: 0.2203, MSE Loss/epoch: 0.0540, Time/epoch: 5.0240\n",
      "Epoch [10/50], BCE Loss/epoch: 0.2175, MSE Loss/epoch: 0.0529, Time/epoch: 5.0969\n",
      "Epoch [11/50], BCE Loss/epoch: 0.2147, MSE Loss/epoch: 0.0518, Time/epoch: 5.0149\n",
      "Epoch [12/50], BCE Loss/epoch: 0.2117, MSE Loss/epoch: 0.0506, Time/epoch: 5.0166\n",
      "Epoch [13/50], BCE Loss/epoch: 0.2085, MSE Loss/epoch: 0.0493, Time/epoch: 5.0237\n",
      "Epoch [14/50], BCE Loss/epoch: 0.2057, MSE Loss/epoch: 0.0481, Time/epoch: 5.0192\n",
      "Epoch [15/50], BCE Loss/epoch: 0.2033, MSE Loss/epoch: 0.0471, Time/epoch: 5.0078\n",
      "Epoch [16/50], BCE Loss/epoch: 0.2008, MSE Loss/epoch: 0.0461, Time/epoch: 5.0867\n",
      "Epoch [17/50], BCE Loss/epoch: 0.1985, MSE Loss/epoch: 0.0451, Time/epoch: 5.0167\n",
      "Epoch [18/50], BCE Loss/epoch: 0.1955, MSE Loss/epoch: 0.0438, Time/epoch: 5.0099\n",
      "Epoch [19/50], BCE Loss/epoch: 0.1928, MSE Loss/epoch: 0.0426, Time/epoch: 5.0142\n",
      "Epoch [20/50], BCE Loss/epoch: 0.1899, MSE Loss/epoch: 0.0413, Time/epoch: 5.0037\n",
      "Epoch [21/50], BCE Loss/epoch: 0.1869, MSE Loss/epoch: 0.0400, Time/epoch: 5.0175\n",
      "Epoch [22/50], BCE Loss/epoch: 0.1841, MSE Loss/epoch: 0.0388, Time/epoch: 5.1015\n",
      "Epoch [23/50], BCE Loss/epoch: 0.1814, MSE Loss/epoch: 0.0377, Time/epoch: 5.0197\n",
      "Epoch [24/50], BCE Loss/epoch: 0.1786, MSE Loss/epoch: 0.0366, Time/epoch: 5.0234\n",
      "Epoch [25/50], BCE Loss/epoch: 0.1763, MSE Loss/epoch: 0.0357, Time/epoch: 5.0279\n",
      "Epoch [26/50], BCE Loss/epoch: 0.1738, MSE Loss/epoch: 0.0348, Time/epoch: 5.0363\n",
      "Epoch [27/50], BCE Loss/epoch: 0.1716, MSE Loss/epoch: 0.0340, Time/epoch: 5.0213\n",
      "Epoch [28/50], BCE Loss/epoch: 0.1697, MSE Loss/epoch: 0.0333, Time/epoch: 5.1174\n",
      "Epoch [29/50], BCE Loss/epoch: 0.1677, MSE Loss/epoch: 0.0326, Time/epoch: 5.0231\n",
      "Epoch [30/50], BCE Loss/epoch: 0.1660, MSE Loss/epoch: 0.0320, Time/epoch: 5.0199\n",
      "Epoch [31/50], BCE Loss/epoch: 0.1643, MSE Loss/epoch: 0.0315, Time/epoch: 5.0276\n",
      "Epoch [32/50], BCE Loss/epoch: 0.1629, MSE Loss/epoch: 0.0311, Time/epoch: 5.0319\n",
      "Epoch [33/50], BCE Loss/epoch: 0.1616, MSE Loss/epoch: 0.0307, Time/epoch: 5.0208\n",
      "Epoch [34/50], BCE Loss/epoch: 0.1604, MSE Loss/epoch: 0.0304, Time/epoch: 5.1099\n",
      "Epoch [35/50], BCE Loss/epoch: 0.1592, MSE Loss/epoch: 0.0300, Time/epoch: 5.0223\n",
      "Epoch [36/50], BCE Loss/epoch: 0.1581, MSE Loss/epoch: 0.0298, Time/epoch: 5.0335\n",
      "Epoch [37/50], BCE Loss/epoch: 0.1570, MSE Loss/epoch: 0.0295, Time/epoch: 5.0285\n",
      "Epoch [38/50], BCE Loss/epoch: 0.1561, MSE Loss/epoch: 0.0292, Time/epoch: 5.0317\n",
      "Epoch [39/50], BCE Loss/epoch: 0.1553, MSE Loss/epoch: 0.0290, Time/epoch: 5.0236\n",
      "Epoch [40/50], BCE Loss/epoch: 0.1545, MSE Loss/epoch: 0.0289, Time/epoch: 5.1057\n",
      "Epoch [41/50], BCE Loss/epoch: 0.1538, MSE Loss/epoch: 0.0287, Time/epoch: 5.0236\n",
      "Epoch [42/50], BCE Loss/epoch: 0.1530, MSE Loss/epoch: 0.0285, Time/epoch: 5.0274\n",
      "Epoch [43/50], BCE Loss/epoch: 0.1526, MSE Loss/epoch: 0.0284, Time/epoch: 5.0309\n",
      "Epoch [44/50], BCE Loss/epoch: 0.1519, MSE Loss/epoch: 0.0283, Time/epoch: 5.0250\n",
      "Epoch [45/50], BCE Loss/epoch: 0.1513, MSE Loss/epoch: 0.0281, Time/epoch: 5.0239\n",
      "Epoch [46/50], BCE Loss/epoch: 0.1508, MSE Loss/epoch: 0.0280, Time/epoch: 5.0960\n",
      "Epoch [47/50], BCE Loss/epoch: 0.1502, MSE Loss/epoch: 0.0279, Time/epoch: 5.0261\n",
      "Epoch [48/50], BCE Loss/epoch: 0.1498, MSE Loss/epoch: 0.0278, Time/epoch: 5.0221\n",
      "Epoch [49/50], BCE Loss/epoch: 0.1494, MSE Loss/epoch: 0.0277, Time/epoch: 5.0171\n",
      "Epoch [50/50], BCE Loss/epoch: 0.1489, MSE Loss/epoch: 0.0276, Time/epoch: 5.0224\n"
     ]
    },
    {
     "data": {
      "text/plain": [
       "<All keys matched successfully>"
      ]
     },
     "execution_count": 9,
     "metadata": {},
     "output_type": "execute_result"
    }
   ],
   "source": [
    "# Training loop\n",
    "train_time_AE = []\n",
    "train_bce_loss = []\n",
    "train_mse_loss = []\n",
    "for epoch in tqdm(range(num_epochs)):\n",
    "    tic = time.time()\n",
    "    bce_loss_epoch=0.0\n",
    "    mse_loss_epoch=0.0\n",
    "    for data in train_loader:\n",
    "        images, _ = data\n",
    "        images = images.to(device)\n",
    "        optimizer.zero_grad()        \n",
    "        outputs, _ = model(images)\n",
    "        loss1 = criterion1(outputs, images)\n",
    "        loss2 = criterion2(outputs, images)\n",
    "        loss = loss1 + loss2\n",
    "        loss.backward()\n",
    "        optimizer.step()\n",
    "        bce_loss_epoch+=loss1.item()\n",
    "        mse_loss_epoch+=loss2.item()\n",
    "    toc = time.time()\n",
    "    train_time_AE.append(toc-tic)\n",
    "    train_bce_loss.append(bce_loss_epoch/len(train_loader))\n",
    "    train_mse_loss.append(mse_loss_epoch/len(train_loader))\n",
    "    print(f'Epoch [{epoch + 1}/{num_epochs}], BCE Loss/epoch: {train_bce_loss[-1]:.4f}, MSE Loss/epoch: {train_mse_loss[-1]:.4f}, Time/epoch: {toc-tic:.4f}')\n",
    "torch.save(model.state_dict(), './AE_MNIST_{}.pt'.format(kk))\n",
    "model.load_state_dict(torch.load('./AE_MNIST_{}.pt'.format(kk)))"
   ]
  },
  {
   "cell_type": "code",
   "execution_count": 10,
   "id": "bbb59c3f-f2d0-4804-905c-2b0b968ce01b",
   "metadata": {
    "tags": []
   },
   "outputs": [],
   "source": [
    "# train_bce_loss_array = np.array(train_bce_loss)\n",
    "# np.save('./swae/train_bce_loss_initial25_{}.npy'.format(kk), train_bce_loss_array)\n",
    "# train_mse_loss_array = np.array(train_mse_loss)\n",
    "# np.save('./swae/train_mse_loss_initial25_{}.npy'.format(kk), train_mse_loss_array)\n",
    "# train_time_AE = np.array(train_time_AE)\n",
    "# np.save('./swae/train_time_initial25_{}.npy'.format(kk), train_time_AE)"
   ]
  },
  {
   "cell_type": "code",
   "execution_count": 11,
   "id": "e8dcd6ff-a528-4e5d-a699-9e3a5b301479",
   "metadata": {
    "tags": []
   },
   "outputs": [
    {
     "data": {
      "text/plain": [
       "[<matplotlib.lines.Line2D at 0x7f9ca3d20e50>]"
      ]
     },
     "execution_count": 11,
     "metadata": {},
     "output_type": "execute_result"
    },
    {
     "data": {
      "image/png": "[encoded data removed]",
      "text/plain": [
       "<Figure size 640x480 with 1 Axes>"
      ]
     },
     "metadata": {},
     "output_type": "display_data"
    }
   ],
   "source": [
    "plt.plot(train_mse_loss)\n",
    "plt.plot(train_bce_loss)"
   ]
  },
  {
   "cell_type": "code",
   "execution_count": 12,
   "id": "75978c75-aaab-4e01-93ba-bb90e4356e36",
   "metadata": {},
   "outputs": [
    {
     "name": "stderr",
     "output_type": "stream",
     "text": [
      "/home/shahbaa/miniconda3/envs/myenv/lib/python3.11/site-packages/torch/nn/_reduction.py:42: UserWarning: size_average and reduce args will be deprecated, please use reduction='none' instead.\n",
      "  warnings.warn(warning.format(ret))\n"
     ]
    },
    {
     "data": {
      "image/png": "[encoded data removed]",
      "text/plain": [
       "<Figure size 2000x600 with 30 Axes>"
      ]
     },
     "metadata": {},
     "output_type": "display_data"
    },
    {
     "name": "stdout",
     "output_type": "stream",
     "text": [
      "tensor(0.1498) tensor(0.0588)\n"
     ]
    }
   ],
   "source": [
    "embeddings = []\n",
    "labels = []\n",
    "BCE = []\n",
    "MSE = []\n",
    "for data in test_loader:\n",
    "    images, y = data    \n",
    "    images = images.to(device)\n",
    "    outputs, embedding = model(images)\n",
    "    BCE.append(nn.BCELoss(reduce=False)(outputs,images).mean(dim=[1,2,3]).detach().cpu())\n",
    "    MSE.append(nn.MSELoss(reduce=False)(outputs,images).mean(dim=[1,2,3]).detach().cpu())\n",
    "    embeddings.append(embedding.detach().cpu())\n",
    "    labels.append(y)\n",
    "\n",
    "embeddings = torch.cat(embeddings)\n",
    "labels = torch.cat(labels).numpy()\n",
    "# k = gaussian_kde(embeddings.numpy().T)\n",
    "# fig, ax = plt.subplots(1, 2, figsize=(20,10), subplot_kw={'projection': \"mollweide\"})\n",
    "# scatter_mollweide_ax(embeddings,ax[0],c=labels)\n",
    "# plot_utils.projection_mollweide(lambda x: k.pdf(x.T), ax[1])\n",
    "# plt.show()\n",
    "\n",
    "fig, ax = plt.subplots(3, 10, figsize=(20, 6))\n",
    "for i in range(3):\n",
    "    for j in range(10):\n",
    "        if j < 5:  # First half for images\n",
    "            ax[i, j].imshow(images[i*5+j, ...].squeeze().detach().cpu(), cmap='gray')\n",
    "        else:  # Second half for outputs\n",
    "            ax[i, j].imshow(outputs[i*5+j-5, ...].squeeze().detach().cpu(), cmap='gray')\n",
    "        ax[i, j].axis('off')\n",
    "plt.show()\n",
    "BCE = torch.cat(BCE)\n",
    "MSE = torch.cat(MSE)\n",
    "print(BCE.mean(),BCE.std())"
   ]
  },
  {
   "cell_type": "code",
   "execution_count": 13,
   "id": "e985449f-eb21-4c6c-87cf-155773fe8030",
   "metadata": {},
   "outputs": [],
   "source": [
    "test_bce_loss_array = np.array(BCE.numpy())\n",
    "np.save('./test_bce_loss_initial25_{}.npy'.format(kk), test_bce_loss_array)\n",
    "test_mse_loss_array = np.array(MSE.numpy())\n",
    "np.save('./test_mse_loss_initial25_{}.npy'.format(kk), test_mse_loss_array)\n",
    "test_embeddings = np.array(embeddings.numpy())\n",
    "np.save('./test_embeddings_initial25_{}.npy'.format(kk), test_embeddings)\n",
    "test_labels = np.array(labels)\n",
    "np.save('./test_labels_initial25_{}.npy'.format(kk), test_labels)"
   ]
  },
  {
   "cell_type": "code",
   "execution_count": 14,
   "id": "40a3fbe2-0675-4156-bd94-0d373f2d23a8",
   "metadata": {
    "tags": []
   },
   "outputs": [],
   "source": [
    "# embedding_dict={'initial':embedding_initial25,'ri1_s3wd':embedding_ri1_s3wd,'s3wd':embedding_S3WD,'sswd':embedding_SSWD}\n",
    "# w_prior=[]\n",
    "# for embd in embedding_dict.keys():\n",
    "#     W=getOT(embedding_dict[embd],prior)\n",
    "#     print(embd,'=',W)\n",
    "#     w_prior.append(W)\n",
    "    "
   ]
  }
 ],
 "metadata": {
  "kernelspec": {
   "display_name": "Python 3 (ipykernel)",
   "language": "python",
   "name": "python3"
  },
  "language_info": {
   "codemirror_mode": {
    "name": "ipython",
    "version": 3
   },
   "file_extension": ".py",
   "mimetype": "text/x-python",
   "name": "python",
   "nbconvert_exporter": "python",
   "pygments_lexer": "ipython3",
   "version": "3.11.3"
  }
 },
 "nbformat": 4,
 "nbformat_minor": 5
}
