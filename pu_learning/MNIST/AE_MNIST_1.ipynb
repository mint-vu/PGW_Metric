{
 "cells": [
  {
   "cell_type": "code",
   "execution_count": 19,
   "id": "d9303151-5519-4a14-a8e3-ac80b2db0cee",
   "metadata": {
    "tags": []
   },
   "outputs": [],
   "source": [
    "import torch\n",
    "import torch.nn as nn\n",
    "import torch.optim as optim\n",
    "from torchvision import datasets, transforms\n",
    "from torch.utils.data import DataLoader\n",
    "import matplotlib.pyplot as plt\n",
    "import time\n",
    "import numpy as np\n",
    "from tqdm.notebook import tqdm\n",
    "import torch.nn.functional as F\n",
    "\n",
    "from scipy.stats import gaussian_kde\n",
    "import ot"
   ]
  },
  {
   "cell_type": "code",
   "execution_count": 20,
   "id": "ffcc476c-c6e9-4aec-9b18-32ffe43fdbf3",
   "metadata": {
    "tags": []
   },
   "outputs": [],
   "source": [
    "kk=1"
   ]
  },
  {
   "cell_type": "code",
   "execution_count": 21,
   "id": "2130b296-a246-4a85-a983-8dfe88336101",
   "metadata": {
    "tags": []
   },
   "outputs": [],
   "source": [
    "device = 'cuda:0'"
   ]
  },
  {
   "cell_type": "code",
   "execution_count": 22,
   "id": "bdeb8c13-b4b4-4d77-862c-c549ee1840c4",
   "metadata": {
    "tags": []
   },
   "outputs": [],
   "source": [
    "def scatter_mollweide_ax(X, ax, c=None,s=3,cmap='tab10'):\n",
    "    '''\n",
    "    https://github.com/clbonet/Spherical_Sliced-Wasserstein/blob/main/lib/utils_sphere.py\n",
    "    '''\n",
    "    spherical_coords = utils.euclidean_to_spherical(X)\n",
    "    ax.scatter(spherical_coords[:,0] - np.pi, spherical_coords[:,1] - np.pi/2, c=c,s=s,cmap=cmap)\n",
    "    ax.set_axis_off()"
   ]
  },
  {
   "cell_type": "code",
   "execution_count": 23,
   "id": "15b0361c-6704-4502-a025-2c3e8a69c065",
   "metadata": {
    "tags": []
   },
   "outputs": [],
   "source": [
    "# Define a Convolutional Autoencoder model\n",
    "class ConvAutoencoder(nn.Module):\n",
    "    def __init__(self, embedding_dim=8):\n",
    "        super(ConvAutoencoder, self).__init__()\n",
    "        self.encoder = nn.Sequential(\n",
    "            nn.Conv2d(1, 32, kernel_size=3, stride=1, padding=1),\n",
    "            nn.ReLU(),\n",
    "            nn.Conv2d(32, 32, kernel_size=3, stride=2, padding=1),\n",
    "            nn.ReLU(),\n",
    "            nn.Conv2d(32, 64, kernel_size=3, stride=1, padding=1),\n",
    "            nn.ReLU(),\n",
    "            nn.Conv2d(64, 64, kernel_size=3, stride=2, padding=1),\n",
    "            nn.ReLU(),\n",
    "            nn.Conv2d(64, 128, kernel_size=3, stride=1, padding=0),\n",
    "            nn.ReLU(),\n",
    "            nn.Conv2d(128, 128, kernel_size=3, stride=2, padding=0),\n",
    "        )\n",
    "        self.decoder = nn.Sequential(\n",
    "            nn.ConvTranspose2d(128, 128, kernel_size=3, stride=2, padding=0, output_padding=1),\n",
    "            nn.ReLU(),\n",
    "            nn.ConvTranspose2d(128, 64, kernel_size=3, stride=1, padding=1),\n",
    "            nn.ReLU(),\n",
    "            nn.ConvTranspose2d(64, 64, kernel_size=3, stride=2, padding=1, output_padding=1),\n",
    "            nn.ReLU(),\n",
    "            nn.ConvTranspose2d(64, 32, kernel_size=3, stride=1, padding=1),\n",
    "            nn.ReLU(),\n",
    "            nn.ConvTranspose2d(32, 32, kernel_size=3, stride=2, padding=0, output_padding=1),\n",
    "            nn.ReLU(),\n",
    "            nn.ConvTranspose2d(32, 1, kernel_size=3, stride=1, padding=0),\n",
    "            nn.Sigmoid(),\n",
    "        )\n",
    "        self.embedding_encoder = nn.Sequential(\n",
    "            nn.Linear(128 * 2 * 2, 512),\n",
    "            nn.ReLU(),\n",
    "            nn.Linear(512, embedding_dim)\n",
    "            )\n",
    "        self.embedding_decoder = nn.Sequential(\n",
    "            nn.Linear(embedding_dim, 512),\n",
    "            nn.ReLU(),\n",
    "            nn.Linear(512, 128 * 2 * 2)\n",
    "            )\n",
    "        self.embedding_classifier = nn.Sequential(\n",
    "            nn.Linear(embedding_dim,64),\n",
    "            nn.ReLU(),\n",
    "            nn.Linear(64,64),\n",
    "            nn.ReLU(),\n",
    "            nn.Linear(64,10))\n",
    "\n",
    "    def forward(self, x):\n",
    "        x = self.encoder(x)\n",
    "        x = x.view(x.size(0), -1)  # Flatten        \n",
    "        embedding = self.embedding_encoder(x)\n",
    "        logits = self.embedding_classifier(embedding)\n",
    "        #embedding = embedding/torch.norm(embedding,p=2,dim=-1,keepdim=True)\n",
    "        xhat = self.decoder(self.embedding_decoder(embedding).view(x.size(0), 128, 2, 2))\n",
    "        return xhat, embedding,logits"
   ]
  },
  {
   "cell_type": "code",
   "execution_count": 24,
   "id": "4ed90a23-3c05-426a-93f7-f48a7163754e",
   "metadata": {
    "tags": []
   },
   "outputs": [],
   "source": [
    "# Define training parameters\n",
    "batch_size = 512\n",
    "learning_rate = 1e-4\n",
    "num_epochs = 50"
   ]
  },
  {
   "cell_type": "code",
   "execution_count": 25,
   "id": "789f3e7d-52ef-4e94-b748-fea712bc9d0f",
   "metadata": {
    "tags": []
   },
   "outputs": [],
   "source": [
    "# Data loading and preprocessing\n",
    "transform = transforms.Compose([transforms.ToTensor()])\n",
    "train_dataset = datasets.MNIST(root='./data', train=True, transform=transform, download=True)\n",
    "test_dataset = datasets.MNIST(root='./data', train=False, transform=transform, download=True)\n",
    "train_loader = DataLoader(train_dataset, batch_size=batch_size, shuffle=True)\n",
    "test_loader = DataLoader(test_dataset, batch_size=batch_size, shuffle=False)"
   ]
  },
  {
   "cell_type": "code",
   "execution_count": 29,
   "id": "45347df1-8e0d-4e39-b5e4-fdeb1bf985ae",
   "metadata": {
    "tags": []
   },
   "outputs": [],
   "source": [
    "# Initialize the model and optimizer\n",
    "model = ConvAutoencoder(embedding_dim=4)\n",
    "model = model.to(device)\n",
    "criterion1 = nn.BCELoss()\n",
    "criterion2 = nn.MSELoss()\n",
    "optimizer = optim.Adam(model.parameters(), lr=learning_rate)"
   ]
  },
  {
   "cell_type": "code",
   "execution_count": 30,
   "id": "6518f6db-db6f-4c18-b32d-6128123d2e99",
   "metadata": {
    "tags": []
   },
   "outputs": [
    {
     "data": {
      "application/vnd.jupyter.widget-view+json": {
       "model_id": "db3150df08074a6da66e83319553228c",
       "version_major": 2,
       "version_minor": 0
      },
      "text/plain": [
       "  0%|          | 0/50 [00:00<?, ?it/s]"
      ]
     },
     "metadata": {},
     "output_type": "display_data"
    },
    {
     "name": "stdout",
     "output_type": "stream",
     "text": [
      "Epoch [1/50], BCE Loss/epoch: 0.6099, MSE Loss/epoch: 0.1972, Time/epoch: 8.0253\n",
      "Epoch [2/50], BCE Loss/epoch: 0.3053, MSE Loss/epoch: 0.0829, Time/epoch: 7.5847\n",
      "Epoch [3/50], BCE Loss/epoch: 0.2807, MSE Loss/epoch: 0.0750, Time/epoch: 7.5433\n",
      "Epoch [4/50], BCE Loss/epoch: 0.2718, MSE Loss/epoch: 0.0721, Time/epoch: 8.2304\n",
      "Epoch [5/50], BCE Loss/epoch: 0.2665, MSE Loss/epoch: 0.0703, Time/epoch: 7.5009\n",
      "Epoch [6/50], BCE Loss/epoch: 0.2624, MSE Loss/epoch: 0.0689, Time/epoch: 7.5439\n",
      "Epoch [7/50], BCE Loss/epoch: 0.2582, MSE Loss/epoch: 0.0673, Time/epoch: 7.8898\n",
      "Epoch [8/50], BCE Loss/epoch: 0.2537, MSE Loss/epoch: 0.0656, Time/epoch: 7.5299\n",
      "Epoch [9/50], BCE Loss/epoch: 0.2489, MSE Loss/epoch: 0.0638, Time/epoch: 7.9740\n",
      "Epoch [10/50], BCE Loss/epoch: 0.2444, MSE Loss/epoch: 0.0620, Time/epoch: 8.0167\n",
      "Epoch [11/50], BCE Loss/epoch: 0.2398, MSE Loss/epoch: 0.0602, Time/epoch: 7.5596\n",
      "Epoch [12/50], BCE Loss/epoch: 0.2356, MSE Loss/epoch: 0.0584, Time/epoch: 7.5838\n",
      "Epoch [13/50], BCE Loss/epoch: 0.2316, MSE Loss/epoch: 0.0567, Time/epoch: 7.5189\n",
      "Epoch [14/50], BCE Loss/epoch: 0.2276, MSE Loss/epoch: 0.0550, Time/epoch: 7.4671\n",
      "Epoch [15/50], BCE Loss/epoch: 0.2235, MSE Loss/epoch: 0.0532, Time/epoch: 7.5678\n",
      "Epoch [16/50], BCE Loss/epoch: 0.2193, MSE Loss/epoch: 0.0515, Time/epoch: 7.4469\n",
      "Epoch [17/50], BCE Loss/epoch: 0.2155, MSE Loss/epoch: 0.0498, Time/epoch: 7.6160\n",
      "Epoch [18/50], BCE Loss/epoch: 0.2124, MSE Loss/epoch: 0.0485, Time/epoch: 7.7748\n",
      "Epoch [19/50], BCE Loss/epoch: 0.2089, MSE Loss/epoch: 0.0471, Time/epoch: 7.0478\n",
      "Epoch [20/50], BCE Loss/epoch: 0.2052, MSE Loss/epoch: 0.0456, Time/epoch: 6.2745\n",
      "Epoch [21/50], BCE Loss/epoch: 0.2020, MSE Loss/epoch: 0.0444, Time/epoch: 6.1993\n",
      "Epoch [22/50], BCE Loss/epoch: 0.1993, MSE Loss/epoch: 0.0433, Time/epoch: 6.1794\n",
      "Epoch [23/50], BCE Loss/epoch: 0.1971, MSE Loss/epoch: 0.0425, Time/epoch: 6.1845\n",
      "Epoch [24/50], BCE Loss/epoch: 0.1941, MSE Loss/epoch: 0.0414, Time/epoch: 6.1112\n",
      "Epoch [25/50], BCE Loss/epoch: 0.1924, MSE Loss/epoch: 0.0408, Time/epoch: 6.2782\n",
      "Epoch [26/50], BCE Loss/epoch: 0.1901, MSE Loss/epoch: 0.0401, Time/epoch: 6.3990\n",
      "Epoch [27/50], BCE Loss/epoch: 0.1876, MSE Loss/epoch: 0.0393, Time/epoch: 6.8065\n",
      "Epoch [28/50], BCE Loss/epoch: 0.1860, MSE Loss/epoch: 0.0388, Time/epoch: 7.1144\n",
      "Epoch [29/50], BCE Loss/epoch: 0.1845, MSE Loss/epoch: 0.0383, Time/epoch: 6.4213\n",
      "Epoch [30/50], BCE Loss/epoch: 0.1826, MSE Loss/epoch: 0.0378, Time/epoch: 6.0701\n",
      "Epoch [31/50], BCE Loss/epoch: 0.1818, MSE Loss/epoch: 0.0376, Time/epoch: 6.3933\n",
      "Epoch [32/50], BCE Loss/epoch: 0.1800, MSE Loss/epoch: 0.0370, Time/epoch: 6.4387\n",
      "Epoch [33/50], BCE Loss/epoch: 0.1790, MSE Loss/epoch: 0.0368, Time/epoch: 6.3037\n",
      "Epoch [34/50], BCE Loss/epoch: 0.1773, MSE Loss/epoch: 0.0363, Time/epoch: 6.3587\n",
      "Epoch [35/50], BCE Loss/epoch: 0.1777, MSE Loss/epoch: 0.0365, Time/epoch: 6.2229\n",
      "Epoch [36/50], BCE Loss/epoch: 0.1752, MSE Loss/epoch: 0.0358, Time/epoch: 6.1717\n",
      "Epoch [37/50], BCE Loss/epoch: 0.1741, MSE Loss/epoch: 0.0355, Time/epoch: 6.1571\n",
      "Epoch [38/50], BCE Loss/epoch: 0.1734, MSE Loss/epoch: 0.0353, Time/epoch: 6.5935\n",
      "Epoch [39/50], BCE Loss/epoch: 0.1723, MSE Loss/epoch: 0.0350, Time/epoch: 6.7562\n",
      "Epoch [40/50], BCE Loss/epoch: 0.1713, MSE Loss/epoch: 0.0347, Time/epoch: 6.2730\n",
      "Epoch [41/50], BCE Loss/epoch: 0.1706, MSE Loss/epoch: 0.0346, Time/epoch: 6.4898\n",
      "Epoch [42/50], BCE Loss/epoch: 0.1704, MSE Loss/epoch: 0.0345, Time/epoch: 6.8611\n",
      "Epoch [43/50], BCE Loss/epoch: 0.1692, MSE Loss/epoch: 0.0342, Time/epoch: 7.0061\n",
      "Epoch [44/50], BCE Loss/epoch: 0.1686, MSE Loss/epoch: 0.0341, Time/epoch: 6.7073\n",
      "Epoch [45/50], BCE Loss/epoch: 0.1681, MSE Loss/epoch: 0.0339, Time/epoch: 6.3639\n",
      "Epoch [46/50], BCE Loss/epoch: 0.1674, MSE Loss/epoch: 0.0338, Time/epoch: 6.7266\n",
      "Epoch [47/50], BCE Loss/epoch: 0.1669, MSE Loss/epoch: 0.0336, Time/epoch: 6.6929\n",
      "Epoch [48/50], BCE Loss/epoch: 0.1672, MSE Loss/epoch: 0.0338, Time/epoch: 6.3402\n",
      "Epoch [49/50], BCE Loss/epoch: 0.1650, MSE Loss/epoch: 0.0331, Time/epoch: 6.7190\n",
      "Epoch [50/50], BCE Loss/epoch: 0.1656, MSE Loss/epoch: 0.0333, Time/epoch: 6.4462\n"
     ]
    },
    {
     "data": {
      "text/plain": [
       "<All keys matched successfully>"
      ]
     },
     "execution_count": 30,
     "metadata": {},
     "output_type": "execute_result"
    }
   ],
   "source": [
    "# Training loop\n",
    "train_time_AE = []\n",
    "train_bce_loss = []\n",
    "train_mse_loss = []\n",
    "for epoch in tqdm(range(num_epochs)):\n",
    "    tic = time.time()\n",
    "    bce_loss_epoch=0.0\n",
    "    mse_loss_epoch=0.0\n",
    "    for data in train_loader:\n",
    "        images, labels = data\n",
    "        images,labels = images.to(device), labels.to(device)\n",
    "        optimizer.zero_grad()        \n",
    "        outputs, _ ,y_pred = model(images)\n",
    "        loss1 = criterion1(outputs, images)\n",
    "        loss2 = criterion2(outputs, images)\n",
    "        classification_loss = F.cross_entropy(y_pred,labels) \n",
    "        loss = loss1 + loss2 + classification_loss\n",
    "        loss.backward()\n",
    "        optimizer.step()\n",
    "        bce_loss_epoch+=loss1.item()\n",
    "        mse_loss_epoch+=loss2.item()\n",
    "    toc = time.time()\n",
    "    train_time_AE.append(toc-tic)\n",
    "    train_bce_loss.append(bce_loss_epoch/len(train_loader))\n",
    "    train_mse_loss.append(mse_loss_epoch/len(train_loader))\n",
    "    print(f'Epoch [{epoch + 1}/{num_epochs}], BCE Loss/epoch: {train_bce_loss[-1]:.4f}, MSE Loss/epoch: {train_mse_loss[-1]:.4f}, Time/epoch: {toc-tic:.4f}')\n",
    "torch.save(model.state_dict(), './AE_MNIST_{}.pt'.format(kk))\n",
    "model.load_state_dict(torch.load('./AE_MNIST_{}.pt'.format(kk)))"
   ]
  },
  {
   "cell_type": "code",
   "execution_count": 31,
   "id": "bbb59c3f-f2d0-4804-905c-2b0b968ce01b",
   "metadata": {
    "tags": []
   },
   "outputs": [],
   "source": [
    "# train_bce_loss_array = np.array(train_bce_loss)\n",
    "# np.save('./swae/train_bce_loss_initial25_{}.npy'.format(kk), train_bce_loss_array)\n",
    "# train_mse_loss_array = np.array(train_mse_loss)\n",
    "# np.save('./swae/train_mse_loss_initial25_{}.npy'.format(kk), train_mse_loss_array)\n",
    "# train_time_AE = np.array(train_time_AE)\n",
    "# np.save('./swae/train_time_initial25_{}.npy'.format(kk), train_time_AE)"
   ]
  },
  {
   "cell_type": "code",
   "execution_count": 32,
   "id": "e8dcd6ff-a528-4e5d-a699-9e3a5b301479",
   "metadata": {
    "tags": []
   },
   "outputs": [
    {
     "data": {
      "text/plain": [
       "[<matplotlib.lines.Line2D at 0x7fdf29038c10>]"
      ]
     },
     "execution_count": 32,
     "metadata": {},
     "output_type": "execute_result"
    },
    {
     "data": {
      "image/png": "[encoded data removed]",
      "text/plain": [
       "<Figure size 640x480 with 1 Axes>"
      ]
     },
     "metadata": {},
     "output_type": "display_data"
    }
   ],
   "source": [
    "plt.plot(train_mse_loss)\n",
    "plt.plot(train_bce_loss)"
   ]
  },
  {
   "cell_type": "code",
   "execution_count": 34,
   "id": "75978c75-aaab-4e01-93ba-bb90e4356e36",
   "metadata": {},
   "outputs": [
    {
     "name": "stderr",
     "output_type": "stream",
     "text": [
      "/home/shahbaa/miniconda3/envs/myenv/lib/python3.11/site-packages/torch/nn/_reduction.py:42: UserWarning: size_average and reduce args will be deprecated, please use reduction='none' instead.\n",
      "  warnings.warn(warning.format(ret))\n"
     ]
    },
    {
     "data": {
      "image/png": "[encoded data removed]",
      "text/plain": [
       "<Figure size 2000x600 with 30 Axes>"
      ]
     },
     "metadata": {},
     "output_type": "display_data"
    },
    {
     "name": "stdout",
     "output_type": "stream",
     "text": [
      "tensor(0.1656) tensor(0.0645)\n"
     ]
    }
   ],
   "source": [
    "embeddings = []\n",
    "labels = []\n",
    "BCE = []\n",
    "MSE = []\n",
    "for data in test_loader:\n",
    "    images, y = data    \n",
    "    images = images.to(device)\n",
    "    outputs, embedding,_ = model(images)\n",
    "    BCE.append(nn.BCELoss(reduce=False)(outputs,images).mean(dim=[1,2,3]).detach().cpu())\n",
    "    MSE.append(nn.MSELoss(reduce=False)(outputs,images).mean(dim=[1,2,3]).detach().cpu())\n",
    "    embeddings.append(embedding.detach().cpu())\n",
    "    labels.append(y)\n",
    "\n",
    "embeddings = torch.cat(embeddings)\n",
    "labels = torch.cat(labels).numpy()\n",
    "# k = gaussian_kde(embeddings.numpy().T)\n",
    "# fig, ax = plt.subplots(1, 2, figsize=(20,10), subplot_kw={'projection': \"mollweide\"})\n",
    "# scatter_mollweide_ax(embeddings,ax[0],c=labels)\n",
    "# plot_utils.projection_mollweide(lambda x: k.pdf(x.T), ax[1])\n",
    "# plt.show()\n",
    "\n",
    "fig, ax = plt.subplots(3, 10, figsize=(20, 6))\n",
    "for i in range(3):\n",
    "    for j in range(10):\n",
    "        if j < 5:  # First half for images\n",
    "            ax[i, j].imshow(images[i*5+j, ...].squeeze().detach().cpu(), cmap='gray')\n",
    "        else:  # Second half for outputs\n",
    "            ax[i, j].imshow(outputs[i*5+j-5, ...].squeeze().detach().cpu(), cmap='gray')\n",
    "        ax[i, j].axis('off')\n",
    "plt.show()\n",
    "BCE = torch.cat(BCE)\n",
    "MSE = torch.cat(MSE)\n",
    "print(BCE.mean(),BCE.std())"
   ]
  },
  {
   "cell_type": "code",
   "execution_count": 35,
   "id": "e985449f-eb21-4c6c-87cf-155773fe8030",
   "metadata": {},
   "outputs": [],
   "source": [
    "# test_bce_loss_array = np.array(BCE.numpy())\n",
    "# np.save('./test_bce_loss_initial25_{}.npy'.format(kk), test_bce_loss_array)\n",
    "# test_mse_loss_array = np.array(MSE.numpy())\n",
    "# np.save('./test_mse_loss_initial25_{}.npy'.format(kk), test_mse_loss_array)\n",
    "# test_embeddings = np.array(embeddings.numpy())\n",
    "# np.save('./test_embeddings_initial25_{}.npy'.format(kk), test_embeddings)\n",
    "# test_labels = np.array(labels)\n",
    "# np.save('./test_labels_initial25_{}.npy'.format(kk), test_labels)"
   ]
  },
  {
   "cell_type": "code",
   "execution_count": 36,
   "id": "40a3fbe2-0675-4156-bd94-0d373f2d23a8",
   "metadata": {
    "tags": []
   },
   "outputs": [],
   "source": [
    "# embedding_dict={'initial':embedding_initial25,'ri1_s3wd':embedding_ri1_s3wd,'s3wd':embedding_S3WD,'sswd':embedding_SSWD}\n",
    "# w_prior=[]\n",
    "# for embd in embedding_dict.keys():\n",
    "#     W=getOT(embedding_dict[embd],prior)\n",
    "#     print(embd,'=',W)\n",
    "#     w_prior.append(W)\n",
    "    "
   ]
  }
 ],
 "metadata": {
  "kernelspec": {
   "display_name": "Python 3 (ipykernel)",
   "language": "python",
   "name": "python3"
  },
  "language_info": {
   "codemirror_mode": {
    "name": "ipython",
    "version": 3
   },
   "file_extension": ".py",
   "mimetype": "text/x-python",
   "name": "python",
   "nbconvert_exporter": "python",
   "pygments_lexer": "ipython3",
   "version": "3.11.0"
  }
 },
 "nbformat": 4,
 "nbformat_minor": 5
}
