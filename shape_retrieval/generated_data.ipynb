{
 "cells": [
  {
   "cell_type": "markdown",
   "metadata": {},
   "source": [
    "# Import packages"
   ]
  },
  {
   "cell_type": "code",
   "execution_count": 1,
   "metadata": {},
   "outputs": [],
   "source": [
    "import numpy as np\n",
    "from sklearn.manifold import MDS\n",
    "import matplotlib.pyplot as plt\n",
    "from matplotlib.path import Path\n",
    "import ot\n",
    "import time\n",
    "from sklearn import svm\n",
    "from sklearn.model_selection import train_test_split\n",
    "from sklearn.metrics import accuracy_score\n",
    "import random\n",
    "\n",
    "np.random.seed(0)"
   ]
  },
  {
   "cell_type": "code",
   "execution_count": 2,
   "metadata": {},
   "outputs": [],
   "source": [
    "import sys\n",
    "sys.path.append(\"../\")\n",
    "\n",
    "from lib.gromov import gromov_wasserstein, cost_matrix_d, tensor_dot_param, tensor_dot_func, gwgrad_partial1, partial_gromov_wasserstein, partial_gromov_ver1\n",
    "from lib.gromov import GW_dist,MPGW_dist, PGW_dist_with_penalty"
   ]
  },
  {
   "cell_type": "code",
   "execution_count": 3,
   "metadata": {},
   "outputs": [],
   "source": [
    "import torch\n",
    "from lib.unbalanced_gromov_wasserstein.unbalancedgw.vanilla_ugw_solver import exp_ugw_sinkhorn\n",
    "from lib.unbalanced_gromov_wasserstein.unbalancedgw._vanilla_utils import ugw_cost\n",
    "\n",
    "device = torch.device('cuda:0' if torch.cuda.is_available() else 'cpu')"
   ]
  },
  {
   "cell_type": "markdown",
   "metadata": {},
   "source": [
    "# Generate Data"
   ]
  },
  {
   "cell_type": "markdown",
   "metadata": {},
   "source": [
    "## House Data"
   ]
  },
  {
   "cell_type": "code",
   "execution_count": 4,
   "metadata": {},
   "outputs": [
    {
     "data": {
      "text/plain": [
       "(100, 2)"
      ]
     },
     "execution_count": 4,
     "metadata": {},
     "output_type": "execute_result"
    }
   ],
   "source": [
    "points_per_axis = 8\n",
    "lim = 0.25\n",
    "\n",
    "x = np.linspace(-lim, lim, points_per_axis)\n",
    "y = np.linspace(-lim, lim, points_per_axis)\n",
    "X, Y = np.meshgrid(x, y)\n",
    "square = np.array([X.ravel(), Y.ravel()]).T\n",
    "\n",
    "vertex1 = np.array([-lim, lim])\n",
    "vertex2 = np.array([lim, lim])\n",
    "side_length = np.linalg.norm(vertex2 - vertex1)\n",
    "height = (np.sqrt(3) / 2) * side_length\n",
    "vertex3 = np.array([0, lim + height])\n",
    "\n",
    "x_coords = []\n",
    "y_coords = []\n",
    "\n",
    "for i in range(points_per_axis):\n",
    "    for j in range(points_per_axis - i):\n",
    "        # Barycentric coordinates for the points\n",
    "        t1 = i / points_per_axis\n",
    "        t2 = j / points_per_axis\n",
    "        t3 = 1 - t1 - t2\n",
    "\n",
    "        # Calculate the position of each point using barycentric coordinates\n",
    "        x = t1 * vertex1[0] + t2 * vertex2[0] + t3 * vertex3[0]\n",
    "        y = t1 * vertex1[1] + t2 * vertex2[1] + t3 * vertex3[1]\n",
    "        \n",
    "        x_coords.append(x)\n",
    "        y_coords.append(y)\n",
    "\n",
    "points = np.array([x_coords, y_coords]).T\n",
    "points.shape\n",
    "\n",
    "# Concatenate points with square\n",
    "house = np.concatenate([square, points], axis=0)\n",
    "\n",
    "xmin, ymin = house.min(axis=0)\n",
    "square -= np.array([xmin, ymin])\n",
    "house -= np.array([xmin, ymin])\n",
    "\n",
    "house.shape"
   ]
  },
  {
   "cell_type": "code",
   "execution_count": 5,
   "metadata": {},
   "outputs": [],
   "source": [
    "# Take random sample of 50 rows from the square matrix\n",
    "n1 = 50\n",
    "idx = np.random.choice(square.shape[0], n1, replace=False)\n",
    "square_sample = square[idx]\n",
    "\n",
    "# Concatenate sample with points to form a house\n",
    "n2 = 25\n",
    "idx = np.random.choice(points.shape[0], n2, replace=False)\n",
    "house_sample = np.concatenate([square_sample, points[idx]], axis=0)"
   ]
  },
  {
   "cell_type": "code",
   "execution_count": 6,
   "metadata": {},
   "outputs": [],
   "source": [
    "def generate_house_pair():\n",
    "    width_dilation = np.random.uniform(0.5, 1.5)\n",
    "    height_dilation = np.random.uniform(0.5, 1.5)\n",
    "    triangle_dilation = np.random.uniform(0.5, 1.5)\n",
    "\n",
    "    new_house = np.copy(house)\n",
    "    new_house[:, 0] *= width_dilation\n",
    "    new_house[:, 1] *= height_dilation\n",
    "\n",
    "    triangle = new_house[points_per_axis**2:]\n",
    "    xmin, ymin = np.min(triangle, axis=0)\n",
    "    shift = np.array([xmin, ymin])\n",
    "    triangle -= shift\n",
    "\n",
    "    triangle[:, 1] *= triangle_dilation\n",
    "    triangle += shift\n",
    "\n",
    "    new_house[points_per_axis**2:] = triangle\n",
    "\n",
    "    # Rotate new house by random theta\n",
    "    theta = np.random.uniform(0, 2 * np.pi)\n",
    "    rotation_matrix = np.array([[np.cos(theta), -np.sin(theta)], [np.sin(theta), np.cos(theta)]])\n",
    "    new_house = np.dot(new_house, rotation_matrix)\n",
    "\n",
    "    return new_house[:points_per_axis**2], new_house"
   ]
  },
  {
   "cell_type": "code",
   "execution_count": 7,
   "metadata": {},
   "outputs": [
    {
     "data": {
      "text/plain": [
       "<matplotlib.collections.PathCollection at 0x75683578f610>"
      ]
     },
     "execution_count": 7,
     "metadata": {},
     "output_type": "execute_result"
    },
    {
     "data": {
      "image/png": "[encoded data removed]",
      "text/plain": [
       "<Figure size 1200x600 with 2 Axes>"
      ]
     },
     "metadata": {},
     "output_type": "display_data"
    }
   ],
   "source": [
    "# 2 x 1 subplot\n",
    "fig, ax = plt.subplots(1, 2, figsize=(12, 6))\n",
    "new_square, new_house = generate_house_pair()\n",
    "\n",
    "# Plot square\n",
    "ax[0].scatter(new_square[:, 0], new_square[:, 1], color='blue', label='Square')\n",
    "\n",
    "# Plot house\n",
    "ax[1].scatter(new_house[:, 0], new_house[:, 1], color='blue', label='House')"
   ]
  },
  {
   "cell_type": "code",
   "execution_count": 8,
   "metadata": {},
   "outputs": [],
   "source": [
    "square_samples = []\n",
    "house_samples = []\n",
    "\n",
    "\n",
    "for i in range(20):\n",
    "    square_sample, house_sample = generate_house_pair()\n",
    "    square_samples.append(square_sample)\n",
    "    house_samples.append(house_sample)"
   ]
  },
  {
   "cell_type": "markdown",
   "metadata": {},
   "source": [
    "# Arrows"
   ]
  },
  {
   "cell_type": "code",
   "execution_count": 9,
   "metadata": {},
   "outputs": [
    {
     "data": {
      "text/plain": [
       "(41, 2)"
      ]
     },
     "execution_count": 9,
     "metadata": {},
     "output_type": "execute_result"
    }
   ],
   "source": [
    "arrow_shape = [[0, -0.1], [0, 0.1], [0.2, 0.1], [0.2, 0.3], [0.4, 0], [0.2, -0.3], [0.2, -0.1]]\n",
    "points_per_axis = 16\n",
    "vertices = np.array(arrow_shape)\n",
    "    \n",
    "# Generate barycentric coordinates\n",
    "arrow_path = Path(arrow_shape)\n",
    "    \n",
    "# Generate a grid of points\n",
    "x = np.linspace(-0.1, 0.5, points_per_axis)\n",
    "y = np.linspace(-0.5, 0.5, points_per_axis)\n",
    "X, Y = np.meshgrid(x, y)\n",
    "points = np.vstack((X.flatten(), Y.flatten())).T\n",
    "\n",
    "# Filter points that are inside the arrow polygon\n",
    "inside = arrow_path.contains_points(points)\n",
    "x_coords, y_coords = points[inside, 0], points[inside, 1]\n",
    "\n",
    "arrow = np.array([x_coords, y_coords]).T\n",
    "\n",
    "xmin = arrow[:, 0].min()\n",
    "arrow[:, 0] -= xmin - 0.6/points_per_axis\n",
    "\n",
    "base_arrow = arrow[arrow[:, 0] <= 0.21]\n",
    "point_arrow = arrow[arrow[:, 0] > 0.21]\n",
    "\n",
    "arrow = np.concatenate([base_arrow, point_arrow, np.array([[0.4, 0]])], axis=0)\n",
    "arrow.shape"
   ]
  },
  {
   "cell_type": "code",
   "execution_count": 10,
   "metadata": {},
   "outputs": [],
   "source": [
    "arrow2 = np.array([-x_coords, y_coords]).T\n",
    "double_arrow = np.concatenate([arrow, arrow2], axis=0)"
   ]
  },
  {
   "cell_type": "code",
   "execution_count": 11,
   "metadata": {},
   "outputs": [],
   "source": [
    "def generate_arrow_pair():\n",
    "    width_dilation = np.random.uniform(0.5, 1.5)\n",
    "    height_dilation = np.random.uniform(0.5, 1.5)\n",
    "    triangle_dilation = np.random.uniform(1.0, 1.5)\n",
    "\n",
    "    new_arrow = np.copy(arrow)\n",
    "    new_arrow[:, 0] *= width_dilation\n",
    "    new_arrow[:, 1] *= height_dilation\n",
    "\n",
    "    \n",
    "    new_arrow[base_arrow.shape[0]:, 1] *= triangle_dilation\n",
    "    xvals = new_arrow[base_arrow.shape[0]:, 0]\n",
    "    xdiffs = np.abs(xvals.reshape(1, -1) - xvals.reshape(-1, 1))\n",
    "    shift = xdiffs.min()\n",
    "\n",
    "    new_arrow[:, 0] -= np.min(new_arrow[:, 0]) - shift\n",
    "\n",
    "    new_double_arrow = np.concatenate([new_arrow, np.array([-new_arrow[:, 0], new_arrow[:, 1]]).T], axis=0)\n",
    "\n",
    "    # Rotate new arrow by random theta\n",
    "    theta = np.random.uniform(0, 2 * np.pi)\n",
    "    rotation_matrix = np.array([[np.cos(theta), -np.sin(theta)], [np.sin(theta), np.cos(theta)]])\n",
    "    new_arrow = np.dot(new_arrow, rotation_matrix)\n",
    "    new_double_arrow = np.dot(new_double_arrow, rotation_matrix)\n",
    "\n",
    "    return new_arrow, new_double_arrow"
   ]
  },
  {
   "cell_type": "code",
   "execution_count": 12,
   "metadata": {},
   "outputs": [
    {
     "data": {
      "text/plain": [
       "(-0.5, 0.5)"
      ]
     },
     "execution_count": 12,
     "metadata": {},
     "output_type": "execute_result"
    },
    {
     "data": {
      "image/png": "[encoded data removed]",
      "text/plain": [
       "<Figure size 1200x600 with 2 Axes>"
      ]
     },
     "metadata": {},
     "output_type": "display_data"
    }
   ],
   "source": [
    "# 2 x 1 subplot\n",
    "fig, ax = plt.subplots(1, 2, figsize=(12, 6))\n",
    "\n",
    "new_arrow, new_double_arrow = generate_arrow_pair()\n",
    "\n",
    "# Plot arrow\n",
    "ax[0].scatter(new_arrow[:, 0], new_arrow[:, 1], color='blue', label='Square')\n",
    "ax[0].set_xlim(-0.5, 0.5)\n",
    "ax[0].set_ylim(-0.5, 0.5)\n",
    "\n",
    "# Plot double arrow\n",
    "ax[1].scatter(new_double_arrow[:, 0], new_double_arrow[:, 1], color='blue', label='House')\n",
    "ax[1].set_xlim(-0.5, 0.5)\n",
    "ax[1].set_ylim(-0.5, 0.5)\n"
   ]
  },
  {
   "cell_type": "code",
   "execution_count": 13,
   "metadata": {},
   "outputs": [],
   "source": [
    "arrow_samples = []\n",
    "double_arrow_samples = []\n",
    "\n",
    "for i in range(20):\n",
    "    arrow_sample, double_arrow_sample = generate_arrow_pair()\n",
    "    arrow_samples.append(arrow_sample)\n",
    "    double_arrow_samples.append(double_arrow_sample)"
   ]
  },
  {
   "cell_type": "markdown",
   "metadata": {},
   "source": [
    "# Circles"
   ]
  },
  {
   "cell_type": "code",
   "execution_count": 14,
   "metadata": {},
   "outputs": [
    {
     "data": {
      "text/plain": [
       "(87, 2)"
      ]
     },
     "execution_count": 14,
     "metadata": {},
     "output_type": "execute_result"
    }
   ],
   "source": [
    "radius = 0.2\n",
    "radial_divisions = 6\n",
    "angular_divisions = 5 * radial_divisions\n",
    "\n",
    "points = []\n",
    "# Generate points for each radial division\n",
    "for r in np.linspace(0, radius, radial_divisions):\n",
    "    # Increasing the number of points with the radius\n",
    "    num_points = int(angular_divisions * r / radius) if r != 0 else 1\n",
    "    theta = np.linspace(0, 2 * np.pi, num_points, endpoint=False)\n",
    "    for t in theta:\n",
    "        points.append((r * np.cos(t), r * np.sin(t)))\n",
    "circle = np.array(points)\n",
    "\n",
    "circle.shape"
   ]
  },
  {
   "cell_type": "code",
   "execution_count": 15,
   "metadata": {},
   "outputs": [
    {
     "data": {
      "text/plain": [
       "(66, 2)"
      ]
     },
     "execution_count": 15,
     "metadata": {},
     "output_type": "execute_result"
    }
   ],
   "source": [
    "radius = 0.3\n",
    "radial_divisions = 5\n",
    "angular_divisions = 5 * radial_divisions\n",
    "\n",
    "points = []\n",
    "# Generate points for each radial division\n",
    "for r in np.linspace(0, radius, radial_divisions):\n",
    "    # Increasing the number of points with the radius\n",
    "    num_points = int(angular_divisions * r / radius) if r != 0 else 1\n",
    "    theta = np.linspace(-np.pi / 2, np.pi / 2, num_points, endpoint=False)\n",
    "    for t in theta:\n",
    "        points.append((r * np.cos(t), r * np.sin(t)))\n",
    "\n",
    "semi_circle = np.array(points)\n",
    "\n",
    "extra_points = np.logical_and(semi_circle[:, 0] <= 1e-3, semi_circle[:, 1] < 0)\n",
    "extra_points = semi_circle[extra_points]\n",
    "extra_points[:, 1] *= -1\n",
    "\n",
    "semi_circle = np.concatenate([semi_circle, extra_points], axis=0)\n",
    "semi_circle.shape"
   ]
  },
  {
   "cell_type": "code",
   "execution_count": 16,
   "metadata": {},
   "outputs": [],
   "source": [
    "circle_points = semi_circle[semi_circle[:, 0] > 1e-3]\n",
    "circle_points[:, 0] *= -1\n",
    "circle = np.concatenate([semi_circle, circle_points], axis=0)"
   ]
  },
  {
   "cell_type": "code",
   "execution_count": 17,
   "metadata": {},
   "outputs": [],
   "source": [
    "def generate_circle_pair():\n",
    "    width_dilation = np.random.uniform(0.5, 1.5)\n",
    "    height_dilation = np.random.uniform(0.5, 1.5)\n",
    "\n",
    "    new_circle = np.copy(circle)\n",
    "    new_circle[:, 0] *= width_dilation\n",
    "    new_circle[:, 1] *= height_dilation\n",
    "\n",
    "    new_semi_circle = new_circle[new_circle[:, 0] >= 0]\n",
    "\n",
    "    # Rotate new circle by random theta\n",
    "    theta = np.random.uniform(0, 2 * np.pi)\n",
    "    rotation_matrix = np.array([[np.cos(theta), -np.sin(theta)], [np.sin(theta), np.cos(theta)]])\n",
    "    new_semi_circle = np.dot(new_semi_circle, rotation_matrix)\n",
    "    new_circle = np.dot(new_circle, rotation_matrix)\n",
    "\n",
    "    return new_semi_circle, new_circle"
   ]
  },
  {
   "cell_type": "code",
   "execution_count": 18,
   "metadata": {},
   "outputs": [
    {
     "data": {
      "text/plain": [
       "(-0.5, 0.5)"
      ]
     },
     "execution_count": 18,
     "metadata": {},
     "output_type": "execute_result"
    },
    {
     "data": {
      "image/png": "[encoded data removed]",
      "text/plain": [
       "<Figure size 1200x600 with 2 Axes>"
      ]
     },
     "metadata": {},
     "output_type": "display_data"
    }
   ],
   "source": [
    "# 2 x 1 subplot\n",
    "fig, ax = plt.subplots(1, 2, figsize=(12, 6))\n",
    "\n",
    "new_semi_circle, new_circle = generate_circle_pair()\n",
    "\n",
    "# Plot arrow\n",
    "ax[0].scatter(new_semi_circle[:, 0], new_semi_circle[:, 1], color='blue', label='Square')\n",
    "ax[0].set_xlim(-0.5, 0.5)\n",
    "ax[0].set_ylim(-0.5, 0.5)\n",
    "\n",
    "# Plot double arrow\n",
    "ax[1].scatter(new_circle[:, 0], new_circle[:, 1], color='blue', label='House')\n",
    "ax[1].set_xlim(-0.5, 0.5)\n",
    "ax[1].set_ylim(-0.5, 0.5)"
   ]
  },
  {
   "cell_type": "code",
   "execution_count": 19,
   "metadata": {},
   "outputs": [],
   "source": [
    "semi_circle_samples = []\n",
    "circle_samples = []\n",
    "\n",
    "for i in range(20):\n",
    "    new_semi_circle, new_circle = generate_circle_pair()\n",
    "    semi_circle_samples.append(new_semi_circle)\n",
    "    circle_samples.append(new_circle)"
   ]
  },
  {
   "cell_type": "code",
   "execution_count": 20,
   "metadata": {},
   "outputs": [
    {
     "data": {
      "text/plain": [
       "120"
      ]
     },
     "execution_count": 20,
     "metadata": {},
     "output_type": "execute_result"
    }
   ],
   "source": [
    "posns = square_samples + house_samples + arrow_samples + double_arrow_samples + semi_circle_samples + circle_samples\n",
    "np.savez('synthetic_data.npz', *posns)"
   ]
  },
  {
   "cell_type": "code",
   "execution_count": null,
   "metadata": {},
   "outputs": [],
   "source": []
  }
 ],
 "metadata": {
  "kernelspec": {
   "display_name": "Python 3 (ipykernel)",
   "language": "python",
   "name": "python3"
  },
  "language_info": {
   "codemirror_mode": {
    "name": "ipython",
    "version": 3
   },
   "file_extension": ".py",
   "mimetype": "text/x-python",
   "name": "python",
   "nbconvert_exporter": "python",
   "pygments_lexer": "ipython3",
   "version": "3.11.4"
  }
 },
 "nbformat": 4,
 "nbformat_minor": 2
}
