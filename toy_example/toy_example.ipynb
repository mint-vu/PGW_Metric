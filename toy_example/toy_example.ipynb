{
 "cells": [
  {
   "cell_type": "code",
   "execution_count": 2,
   "id": "a0d56bb2-e049-42b4-9bf9-6cfd8d4ac17a",
   "metadata": {},
   "outputs": [],
   "source": [
    "import numpy as np\n",
    "\n",
    "\n",
    "import numpy as np \n",
    "import matplotlib.pyplot as plt\n",
    "import torch \n",
    "import ot \n",
    "import os\n",
    "\n",
    "os.chdir(\"..\")\n",
    "cwd = os.getcwd()\n",
    "import numba as nb\n",
    "\n",
    "# import our gw, (bounded) pgw, mpgw \n",
    "\n",
    "from lib.gromov import gromov_wasserstein,cost_matrix_d,tensor_dot_param,tensor_dot_func,gwgrad_partial1,partial_gromov_wasserstein,partial_gromov_ver1,GW_dist,MPGW_dist,PGW_dist_with_penalty\n",
    "from lib.gromov_barycenter import *\n",
    "# import ugw \n",
    "from lib.opt import *\n",
    "from lib.unbalanced_gromov_wasserstein.unbalancedgw.vanilla_ugw_solver import exp_ugw_sinkhorn,log_ugw_sinkhorn\n",
    "from lib.unbalanced_gromov_wasserstein.unbalancedgw._vanilla_utils import ugw_cost\n",
    "from lib.unbalanced_gromov_wasserstein.unbalancedgw.utils import generate_measure\n",
    "from lib.unbalanced_gromov_wasserstein.unbalancedgw.batch_stable_ugw_solver import log_batch_ugw_sinkhorn\n",
    "\n",
    "from ot.utils import dist, UndefinedParameter, list_to_array\n",
    "from ot.optim import cg, line_search_armijo, solve_1d_linesearch_quad\n",
    "from ot.utils import check_random_state, unif\n",
    "from ot.backend import get_backend, NumpyBackend\n",
    "\n",
    "\n",
    "\n",
    "from pathlib import Path\n",
    "\n",
    "import numpy as np\n",
    "import scipy as sp\n",
    "\n",
    "from matplotlib import pyplot as plt\n",
    "from sklearn import manifold\n",
    "from sklearn.decomposition import PCA\n",
    "\n",
    "from sklearn.datasets import load_digits\n",
    "from sklearn.manifold import MDS\n",
    "\n",
    "\n"
   ]
  },
  {
   "cell_type": "code",
   "execution_count": 3,
   "id": "5b45c045-44f0-4a66-bb15-e5b8c8c4671c",
   "metadata": {},
   "outputs": [
    {
     "data": {
      "image/png": "[encoded data removed]",
      "text/plain": [
       "<Figure size 800x600 with 1 Axes>"
      ]
     },
     "metadata": {},
     "output_type": "display_data"
    }
   ],
   "source": [
    "def circle_2d(num_points, radius=1, center=(0, 0)):\n",
    "    \"\"\"\n",
    "    Generate points for a circle centered at the origin.\n",
    "\n",
    "    Parameters:\n",
    "    - num_points (int): Number of points on the circle\n",
    "    - radius (float): Radius of the circle (default is 1)\n",
    "    - center (tuple): (x, y) coordinates of the circle's center (default is (0, 0))\n",
    "\n",
    "    Returns:\n",
    "    - np.ndarray: Array of shape (num_points, 2), where each row is a point [x, y]\n",
    "    \"\"\"\n",
    "    theta = np.linspace(0, 2 * np.pi, num_points, endpoint=False)  # Angles\n",
    "    x = center[0] + radius * np.cos(theta)  # X coordinates\n",
    "    y = center[1] + radius * np.sin(theta)  # Y coordinates\n",
    "    return np.column_stack((x, y))  # Combine x and y into shape (num_points, 2)\n",
    "\n",
    "import numpy as np\n",
    "\n",
    "def line_2d(N, theta=0, length=2, initial_point=[0, 0]):\n",
    "    \"\"\"\n",
    "    Generate points for a straight line.\n",
    "\n",
    "    Parameters:\n",
    "    - N (int): Number of points along the line\n",
    "    - theta (float): Angle of the line in degrees (0° is horizontal)\n",
    "    - length (float): Length of the line\n",
    "    - initial_point (tuple): Starting point of the line (default is (0, 0))\n",
    "\n",
    "    Returns:\n",
    "    - np.ndarray: Array of shape (N, 2), where each row is a point [x, y]\n",
    "    \"\"\"\n",
    "\n",
    "    x_start, y_start = initial_point[0],initial_point[1]\n",
    "    x_end = x_start + length * np.cos(theta)\n",
    "    y_end = y_start + length * np.sin(theta)\n",
    "\n",
    "    x = np.linspace(x_start, x_end, N)\n",
    "    y = np.linspace(y_start, y_end, N)\n",
    "\n",
    "    return np.column_stack((x, y))\n",
    "\n",
    "\n",
    "  # Combine x and y into shape (num_points, 2)\n",
    "\n",
    "\n",
    "\n",
    "X=np.concatenate((line_2d(10,-np.pi/2,initial_point=[0,-1]),circle_2d(5,radius=0.2)))\n",
    "Y=line_2d(10,-np.pi/4,initial_point=[2,2])\n",
    "\n",
    "plt.figure(figsize=(8, 6))  # Set figure size\n",
    "plt.scatter(X[:,0], X[:,1])  # Line plot with label and line width\n",
    "plt.scatter(Y[:,0], Y[:,1])  # Line plot with label and line width\n",
    "plt.xlim(-2, 4)  # Set x-axis limits\n",
    "plt.ylim(-4, 4)  # Set y-axis limits\n",
    "plt.show()\n",
    "\n"
   ]
  },
  {
   "cell_type": "code",
   "execution_count": 4,
   "id": "12697a23-e9b7-4560-a42d-2a37df131281",
   "metadata": {},
   "outputs": [
    {
     "ename": "NameError",
     "evalue": "name 'N' is not defined",
     "output_type": "error",
     "traceback": [
      "\u001b[0;31m---------------------------------------------------------------------------\u001b[0m",
      "\u001b[0;31mNameError\u001b[0m                                 Traceback (most recent call last)",
      "Cell \u001b[0;32mIn[4], line 18\u001b[0m\n\u001b[1;32m     16\u001b[0m result[\u001b[38;5;124m'\u001b[39m\u001b[38;5;124mot\u001b[39m\u001b[38;5;124m'\u001b[39m]\u001b[38;5;241m=\u001b[39mot\u001b[38;5;241m.\u001b[39mlp\u001b[38;5;241m.\u001b[39memd(p\u001b[38;5;241m/\u001b[39mp\u001b[38;5;241m.\u001b[39msum(),q\u001b[38;5;241m/\u001b[39mq\u001b[38;5;241m.\u001b[39msum(),C)\n\u001b[1;32m     17\u001b[0m result[\u001b[38;5;124m'\u001b[39m\u001b[38;5;124mpot\u001b[39m\u001b[38;5;124m'\u001b[39m]\u001b[38;5;241m=\u001b[39mopt_lp(p,q,C,Lambda\u001b[38;5;241m=\u001b[39m\u001b[38;5;241m10.0\u001b[39m)[\u001b[38;5;241m0\u001b[39m]\n\u001b[0;32m---> 18\u001b[0m result[\u001b[38;5;124m'\u001b[39m\u001b[38;5;124mgw\u001b[39m\u001b[38;5;124m'\u001b[39m]\u001b[38;5;241m=\u001b[39mgromov_wasserstein(C1, C2, p\u001b[38;5;241m/\u001b[39mp\u001b[38;5;241m.\u001b[39msum(), q\u001b[38;5;241m/\u001b[39mq\u001b[38;5;241m.\u001b[39msum(), G0\u001b[38;5;241m=\u001b[39mG0,thres\u001b[38;5;241m=\u001b[39m\u001b[38;5;241m1\u001b[39m, numItermax\u001b[38;5;241m=\u001b[39m\u001b[38;5;241m100\u001b[39m\u001b[38;5;241m*\u001b[39m\u001b[43mN\u001b[49m, tol\u001b[38;5;241m=\u001b[39m\u001b[38;5;241m1e-5\u001b[39m,log\u001b[38;5;241m=\u001b[39m\u001b[38;5;28;01mFalse\u001b[39;00m, verbose\u001b[38;5;241m=\u001b[39m\u001b[38;5;28;01mFalse\u001b[39;00m,line_search\u001b[38;5;241m=\u001b[39m\u001b[38;5;28;01mFalse\u001b[39;00m)\n\u001b[1;32m     19\u001b[0m result[\u001b[38;5;124m'\u001b[39m\u001b[38;5;124mpgw\u001b[39m\u001b[38;5;124m'\u001b[39m] \u001b[38;5;241m=\u001b[39m partial_gromov_ver1(C1, C2, p, q, G0\u001b[38;5;241m=\u001b[39mG0, Lambda\u001b[38;5;241m=\u001b[39m\u001b[38;5;241m1.0\u001b[39m, thres\u001b[38;5;241m=\u001b[39m\u001b[38;5;241m1\u001b[39m, numItermax\u001b[38;5;241m=\u001b[39m\u001b[38;5;241m100\u001b[39m\u001b[38;5;241m*\u001b[39mN, tol\u001b[38;5;241m=\u001b[39m\u001b[38;5;241m1e-5\u001b[39m,log\u001b[38;5;241m=\u001b[39m\u001b[38;5;28;01mFalse\u001b[39;00m,verbose\u001b[38;5;241m=\u001b[39m\u001b[38;5;28;01mFalse\u001b[39;00m,line_search\u001b[38;5;241m=\u001b[39m\u001b[38;5;28;01mFalse\u001b[39;00m)\n",
      "\u001b[0;31mNameError\u001b[0m: name 'N' is not defined"
     ]
    }
   ],
   "source": [
    "result={}\n",
    "# OT method\n",
    "\n",
    "C=cost_matrix_d(X,Y)\n",
    "n,m=C.shape\n",
    "p=np.ones(n)/m\n",
    "q=np.ones(m)/m\n",
    "\n",
    "C1=np.sqrt(cost_matrix_d(X,X))\n",
    "C2=np.sqrt(cost_matrix_d(Y,Y))\n",
    "max=C1.max()\n",
    "C1/=max\n",
    "C2/=max\n",
    "G0=np.zeros((n,m))\n",
    "G0[0:m,0:m]=np.eye(m)\n",
    "result['ot']=ot.lp.emd(p/p.sum(),q/q.sum(),C)\n",
    "result['pot']=opt_lp(p,q,C,Lambda=10.0)[0]\n",
    "result['gw']=gromov_wasserstein(C1, C2, p/p.sum(), q/q.sum(), G0=G0,thres=1, numItermax=100*N, tol=1e-5,log=False, verbose=False,line_search=False)\n",
    "result['pgw'] = partial_gromov_ver1(C1, C2, p, q, G0=G0, Lambda=1.0, thres=1, numItermax=100*N, tol=1e-5,log=False,verbose=False,line_search=False)\n",
    "\n",
    "\n",
    "\n",
    "\n"
   ]
  },
  {
   "cell_type": "code",
   "execution_count": null,
   "id": "a2af2dd2-c31d-4e86-9f1c-d796a23b4790",
   "metadata": {},
   "outputs": [],
   "source": [
    "fig, axes = plt.subplots(1, 5, figsize=(4*5, 4))\n",
    "threshold=1e-5\n",
    "methods=['data','ot','pot','gw','pgw']\n",
    "labels=['data','OT','UOT','GW','PGW']\n",
    "N=10\n",
    "for i, (method,ax) in enumerate(zip(methods,axes)):\n",
    "    ax.scatter(X[0:N, 0], X[0:N, 1], c='r')\n",
    "    ax.scatter(X[N+1:, 0],X[N+1:, 1], c='orange')\n",
    "    ax.scatter(Y[:, 0], Y[:, 1], c='blue')\n",
    "    ax.set_xticks([])  # Remove x-axis ticks\n",
    "    ax.set_yticks([]) \n",
    "\n",
    "#    ax.set_xlim(-1, 6)  # Set x-axis limits\n",
    "#    ax.set_ylim(-4, 3)  # Set y-axis limits\n",
    "    if i>=1:\n",
    "        gamma=result[method]\n",
    "        for i1 in range(X.shape[0]):\n",
    "            for j1 in range(Y.shape[0]):\n",
    "                if gamma[i1, j1] > threshold:\n",
    "                    ax.plot([X[i1, 0], Y[j1, 0]], [X[i1, 1], Y[j1, 1]], 'grey', lw=gamma[i1, j1]*20, alpha=0.4)\n",
    "    ax.set_xlabel(labels[i],fontsize=25)\n",
    "plt.subplots_adjust(wspace=0, hspace=0)\n",
    "plt.savefig('example/example.png', dpi=300, bbox_inches='tight')\n",
    "plt.savefig('example/example.pdf', dpi=300, bbox_inches='tight')\n",
    "\n",
    "plt.show()"
   ]
  },
  {
   "cell_type": "code",
   "execution_count": 66,
   "id": "94d6cb09-acb5-48e6-9991-d50c4fe29159",
   "metadata": {},
   "outputs": [
    {
     "data": {
      "text/plain": [
       "10"
      ]
     },
     "execution_count": 66,
     "metadata": {},
     "output_type": "execute_result"
    }
   ],
   "source": [
    "gamma.shape"
   ]
  },
  {
   "cell_type": "code",
   "execution_count": 64,
   "id": "ce4a8f60-57a5-4e9e-9c33-dc1380152718",
   "metadata": {},
   "outputs": [
    {
     "data": {
      "text/plain": [
       "(15, 2)"
      ]
     },
     "execution_count": 64,
     "metadata": {},
     "output_type": "execute_result"
    }
   ],
   "source": [
    "X.shape"
   ]
  },
  {
   "cell_type": "code",
   "execution_count": 65,
   "id": "8cd080bd-6f24-4ffe-96fe-8d295f7fd978",
   "metadata": {},
   "outputs": [
    {
     "data": {
      "text/plain": [
       "(10, 2)"
      ]
     },
     "execution_count": 65,
     "metadata": {},
     "output_type": "execute_result"
    }
   ],
   "source": [
    "Y.shape"
   ]
  },
  {
   "cell_type": "code",
   "execution_count": null,
   "id": "dda3f017-58e1-480b-a6cd-de1229dd82c5",
   "metadata": {},
   "outputs": [],
   "source": []
  }
 ],
 "metadata": {
  "kernelspec": {
   "display_name": "Python 3 (ipykernel)",
   "language": "python",
   "name": "python3"
  },
  "language_info": {
   "codemirror_mode": {
    "name": "ipython",
    "version": 3
   },
   "file_extension": ".py",
   "mimetype": "text/x-python",
   "name": "python",
   "nbconvert_exporter": "python",
   "pygments_lexer": "ipython3",
   "version": "3.11.4"
  }
 },
 "nbformat": 4,
 "nbformat_minor": 5
}
